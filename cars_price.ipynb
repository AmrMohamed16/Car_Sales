{
 "cells": [
  {
   "cell_type": "markdown",
   "id": "09333497",
   "metadata": {},
   "source": [
    "# Car Sales Analysis"
   ]
  },
  {
   "cell_type": "markdown",
   "id": "09c1c0aa",
   "metadata": {},
   "source": [
    "### Importing What We Need"
   ]
  },
  {
   "cell_type": "code",
   "execution_count": null,
   "id": "0923b361",
   "metadata": {},
   "outputs": [],
   "source": [
    "import pandas as pd\n",
    "import numpy as np \n",
    "import matplotlib.pyplot as plt\n",
    "import seaborn as sns \n",
    "\n",
    "df =  pd.read_csv(\"cars.csv\")\n",
    "pd.set_option('display.max_columns', None)"
   ]
  },
  {
   "cell_type": "code",
   "execution_count": 224,
   "id": "e436a4cb",
   "metadata": {},
   "outputs": [
    {
     "data": {
      "text/html": [
       "<div>\n",
       "<style scoped>\n",
       "    .dataframe tbody tr th:only-of-type {\n",
       "        vertical-align: middle;\n",
       "    }\n",
       "\n",
       "    .dataframe tbody tr th {\n",
       "        vertical-align: top;\n",
       "    }\n",
       "\n",
       "    .dataframe thead th {\n",
       "        text-align: right;\n",
       "    }\n",
       "</style>\n",
       "<table border=\"1\" class=\"dataframe\">\n",
       "  <thead>\n",
       "    <tr style=\"text-align: right;\">\n",
       "      <th></th>\n",
       "      <th>3</th>\n",
       "      <th>?</th>\n",
       "      <th>alfa-romero</th>\n",
       "      <th>gas</th>\n",
       "      <th>std</th>\n",
       "      <th>two</th>\n",
       "      <th>convertible</th>\n",
       "      <th>rwd</th>\n",
       "      <th>front</th>\n",
       "      <th>88.6</th>\n",
       "      <th>168.8</th>\n",
       "      <th>64.1</th>\n",
       "      <th>48.8</th>\n",
       "      <th>2548</th>\n",
       "      <th>dohc</th>\n",
       "      <th>four</th>\n",
       "      <th>130</th>\n",
       "      <th>mpfi</th>\n",
       "      <th>3.47</th>\n",
       "      <th>2.68</th>\n",
       "      <th>9</th>\n",
       "      <th>111</th>\n",
       "      <th>5000</th>\n",
       "      <th>21</th>\n",
       "      <th>27</th>\n",
       "      <th>13495</th>\n",
       "    </tr>\n",
       "  </thead>\n",
       "  <tbody>\n",
       "    <tr>\n",
       "      <th>0</th>\n",
       "      <td>3</td>\n",
       "      <td>?</td>\n",
       "      <td>alfa-romero</td>\n",
       "      <td>gas</td>\n",
       "      <td>std</td>\n",
       "      <td>two</td>\n",
       "      <td>convertible</td>\n",
       "      <td>rwd</td>\n",
       "      <td>front</td>\n",
       "      <td>88.6</td>\n",
       "      <td>168.8</td>\n",
       "      <td>64.1</td>\n",
       "      <td>48.8</td>\n",
       "      <td>2548</td>\n",
       "      <td>dohc</td>\n",
       "      <td>four</td>\n",
       "      <td>130</td>\n",
       "      <td>mpfi</td>\n",
       "      <td>3.47</td>\n",
       "      <td>2.68</td>\n",
       "      <td>9.0</td>\n",
       "      <td>111</td>\n",
       "      <td>5000</td>\n",
       "      <td>21</td>\n",
       "      <td>27</td>\n",
       "      <td>16500</td>\n",
       "    </tr>\n",
       "    <tr>\n",
       "      <th>1</th>\n",
       "      <td>1</td>\n",
       "      <td>?</td>\n",
       "      <td>alfa-romero</td>\n",
       "      <td>gas</td>\n",
       "      <td>std</td>\n",
       "      <td>two</td>\n",
       "      <td>hatchback</td>\n",
       "      <td>rwd</td>\n",
       "      <td>front</td>\n",
       "      <td>94.5</td>\n",
       "      <td>171.2</td>\n",
       "      <td>65.5</td>\n",
       "      <td>52.4</td>\n",
       "      <td>2823</td>\n",
       "      <td>ohcv</td>\n",
       "      <td>six</td>\n",
       "      <td>152</td>\n",
       "      <td>mpfi</td>\n",
       "      <td>2.68</td>\n",
       "      <td>3.47</td>\n",
       "      <td>9.0</td>\n",
       "      <td>154</td>\n",
       "      <td>5000</td>\n",
       "      <td>19</td>\n",
       "      <td>26</td>\n",
       "      <td>16500</td>\n",
       "    </tr>\n",
       "    <tr>\n",
       "      <th>2</th>\n",
       "      <td>2</td>\n",
       "      <td>164</td>\n",
       "      <td>audi</td>\n",
       "      <td>gas</td>\n",
       "      <td>std</td>\n",
       "      <td>four</td>\n",
       "      <td>sedan</td>\n",
       "      <td>fwd</td>\n",
       "      <td>front</td>\n",
       "      <td>99.8</td>\n",
       "      <td>176.6</td>\n",
       "      <td>66.2</td>\n",
       "      <td>54.3</td>\n",
       "      <td>2337</td>\n",
       "      <td>ohc</td>\n",
       "      <td>four</td>\n",
       "      <td>109</td>\n",
       "      <td>mpfi</td>\n",
       "      <td>3.19</td>\n",
       "      <td>3.4</td>\n",
       "      <td>10.0</td>\n",
       "      <td>102</td>\n",
       "      <td>5500</td>\n",
       "      <td>24</td>\n",
       "      <td>30</td>\n",
       "      <td>13950</td>\n",
       "    </tr>\n",
       "    <tr>\n",
       "      <th>3</th>\n",
       "      <td>2</td>\n",
       "      <td>164</td>\n",
       "      <td>audi</td>\n",
       "      <td>gas</td>\n",
       "      <td>std</td>\n",
       "      <td>four</td>\n",
       "      <td>sedan</td>\n",
       "      <td>4wd</td>\n",
       "      <td>front</td>\n",
       "      <td>99.4</td>\n",
       "      <td>176.6</td>\n",
       "      <td>66.4</td>\n",
       "      <td>54.3</td>\n",
       "      <td>2824</td>\n",
       "      <td>ohc</td>\n",
       "      <td>five</td>\n",
       "      <td>136</td>\n",
       "      <td>mpfi</td>\n",
       "      <td>3.19</td>\n",
       "      <td>3.4</td>\n",
       "      <td>8.0</td>\n",
       "      <td>115</td>\n",
       "      <td>5500</td>\n",
       "      <td>18</td>\n",
       "      <td>22</td>\n",
       "      <td>17450</td>\n",
       "    </tr>\n",
       "    <tr>\n",
       "      <th>4</th>\n",
       "      <td>2</td>\n",
       "      <td>?</td>\n",
       "      <td>audi</td>\n",
       "      <td>gas</td>\n",
       "      <td>std</td>\n",
       "      <td>two</td>\n",
       "      <td>sedan</td>\n",
       "      <td>fwd</td>\n",
       "      <td>front</td>\n",
       "      <td>99.8</td>\n",
       "      <td>177.3</td>\n",
       "      <td>66.3</td>\n",
       "      <td>53.1</td>\n",
       "      <td>2507</td>\n",
       "      <td>ohc</td>\n",
       "      <td>five</td>\n",
       "      <td>136</td>\n",
       "      <td>mpfi</td>\n",
       "      <td>3.19</td>\n",
       "      <td>3.4</td>\n",
       "      <td>8.5</td>\n",
       "      <td>110</td>\n",
       "      <td>5500</td>\n",
       "      <td>19</td>\n",
       "      <td>25</td>\n",
       "      <td>15250</td>\n",
       "    </tr>\n",
       "  </tbody>\n",
       "</table>\n",
       "</div>"
      ],
      "text/plain": [
       "   3    ?  alfa-romero  gas  std   two  convertible  rwd  front  88.6  168.8  \\\n",
       "0  3    ?  alfa-romero  gas  std   two  convertible  rwd  front  88.6  168.8   \n",
       "1  1    ?  alfa-romero  gas  std   two    hatchback  rwd  front  94.5  171.2   \n",
       "2  2  164         audi  gas  std  four        sedan  fwd  front  99.8  176.6   \n",
       "3  2  164         audi  gas  std  four        sedan  4wd  front  99.4  176.6   \n",
       "4  2    ?         audi  gas  std   two        sedan  fwd  front  99.8  177.3   \n",
       "\n",
       "   64.1  48.8  2548  dohc  four  130  mpfi  3.47  2.68     9  111  5000  21  \\\n",
       "0  64.1  48.8  2548  dohc  four  130  mpfi  3.47  2.68   9.0  111  5000  21   \n",
       "1  65.5  52.4  2823  ohcv   six  152  mpfi  2.68  3.47   9.0  154  5000  19   \n",
       "2  66.2  54.3  2337   ohc  four  109  mpfi  3.19   3.4  10.0  102  5500  24   \n",
       "3  66.4  54.3  2824   ohc  five  136  mpfi  3.19   3.4   8.0  115  5500  18   \n",
       "4  66.3  53.1  2507   ohc  five  136  mpfi  3.19   3.4   8.5  110  5500  19   \n",
       "\n",
       "   27  13495  \n",
       "0  27  16500  \n",
       "1  26  16500  \n",
       "2  30  13950  \n",
       "3  22  17450  \n",
       "4  25  15250  "
      ]
     },
     "execution_count": 224,
     "metadata": {},
     "output_type": "execute_result"
    }
   ],
   "source": [
    "# Exploring The Data \n",
    "df.head()"
   ]
  },
  {
   "cell_type": "code",
   "execution_count": 225,
   "id": "0de4abc6",
   "metadata": {},
   "outputs": [
    {
     "data": {
      "text/plain": [
       "(204, 26)"
      ]
     },
     "execution_count": 225,
     "metadata": {},
     "output_type": "execute_result"
    }
   ],
   "source": [
    "df.shape"
   ]
  },
  {
   "cell_type": "code",
   "execution_count": 226,
   "id": "0f921769",
   "metadata": {},
   "outputs": [
    {
     "data": {
      "text/html": [
       "<div>\n",
       "<style scoped>\n",
       "    .dataframe tbody tr th:only-of-type {\n",
       "        vertical-align: middle;\n",
       "    }\n",
       "\n",
       "    .dataframe tbody tr th {\n",
       "        vertical-align: top;\n",
       "    }\n",
       "\n",
       "    .dataframe thead th {\n",
       "        text-align: right;\n",
       "    }\n",
       "</style>\n",
       "<table border=\"1\" class=\"dataframe\">\n",
       "  <thead>\n",
       "    <tr style=\"text-align: right;\">\n",
       "      <th></th>\n",
       "      <th>symboling</th>\n",
       "      <th>normalized-losses</th>\n",
       "      <th>make</th>\n",
       "      <th>fuel-type</th>\n",
       "      <th>aspiration</th>\n",
       "      <th>num-of-doors</th>\n",
       "      <th>body-style</th>\n",
       "      <th>drive-wheels</th>\n",
       "      <th>engine-location</th>\n",
       "      <th>wheel-base</th>\n",
       "      <th>length</th>\n",
       "      <th>width</th>\n",
       "      <th>height</th>\n",
       "      <th>curb-weight</th>\n",
       "      <th>engine-type</th>\n",
       "      <th>num-of-cylinders</th>\n",
       "      <th>engine-size</th>\n",
       "      <th>fuel-system</th>\n",
       "      <th>bore</th>\n",
       "      <th>stroke</th>\n",
       "      <th>compression-ratio</th>\n",
       "      <th>horsepower</th>\n",
       "      <th>peak-rpm</th>\n",
       "      <th>city-mpg</th>\n",
       "      <th>highway-mpg</th>\n",
       "      <th>price</th>\n",
       "    </tr>\n",
       "  </thead>\n",
       "  <tbody>\n",
       "    <tr>\n",
       "      <th>0</th>\n",
       "      <td>3</td>\n",
       "      <td>?</td>\n",
       "      <td>alfa-romero</td>\n",
       "      <td>gas</td>\n",
       "      <td>std</td>\n",
       "      <td>two</td>\n",
       "      <td>convertible</td>\n",
       "      <td>rwd</td>\n",
       "      <td>front</td>\n",
       "      <td>88.6</td>\n",
       "      <td>168.8</td>\n",
       "      <td>64.1</td>\n",
       "      <td>48.8</td>\n",
       "      <td>2548</td>\n",
       "      <td>dohc</td>\n",
       "      <td>four</td>\n",
       "      <td>130</td>\n",
       "      <td>mpfi</td>\n",
       "      <td>3.47</td>\n",
       "      <td>2.68</td>\n",
       "      <td>9.0</td>\n",
       "      <td>111</td>\n",
       "      <td>5000</td>\n",
       "      <td>21</td>\n",
       "      <td>27</td>\n",
       "      <td>16500</td>\n",
       "    </tr>\n",
       "    <tr>\n",
       "      <th>1</th>\n",
       "      <td>1</td>\n",
       "      <td>?</td>\n",
       "      <td>alfa-romero</td>\n",
       "      <td>gas</td>\n",
       "      <td>std</td>\n",
       "      <td>two</td>\n",
       "      <td>hatchback</td>\n",
       "      <td>rwd</td>\n",
       "      <td>front</td>\n",
       "      <td>94.5</td>\n",
       "      <td>171.2</td>\n",
       "      <td>65.5</td>\n",
       "      <td>52.4</td>\n",
       "      <td>2823</td>\n",
       "      <td>ohcv</td>\n",
       "      <td>six</td>\n",
       "      <td>152</td>\n",
       "      <td>mpfi</td>\n",
       "      <td>2.68</td>\n",
       "      <td>3.47</td>\n",
       "      <td>9.0</td>\n",
       "      <td>154</td>\n",
       "      <td>5000</td>\n",
       "      <td>19</td>\n",
       "      <td>26</td>\n",
       "      <td>16500</td>\n",
       "    </tr>\n",
       "    <tr>\n",
       "      <th>2</th>\n",
       "      <td>2</td>\n",
       "      <td>164</td>\n",
       "      <td>audi</td>\n",
       "      <td>gas</td>\n",
       "      <td>std</td>\n",
       "      <td>four</td>\n",
       "      <td>sedan</td>\n",
       "      <td>fwd</td>\n",
       "      <td>front</td>\n",
       "      <td>99.8</td>\n",
       "      <td>176.6</td>\n",
       "      <td>66.2</td>\n",
       "      <td>54.3</td>\n",
       "      <td>2337</td>\n",
       "      <td>ohc</td>\n",
       "      <td>four</td>\n",
       "      <td>109</td>\n",
       "      <td>mpfi</td>\n",
       "      <td>3.19</td>\n",
       "      <td>3.4</td>\n",
       "      <td>10.0</td>\n",
       "      <td>102</td>\n",
       "      <td>5500</td>\n",
       "      <td>24</td>\n",
       "      <td>30</td>\n",
       "      <td>13950</td>\n",
       "    </tr>\n",
       "    <tr>\n",
       "      <th>3</th>\n",
       "      <td>2</td>\n",
       "      <td>164</td>\n",
       "      <td>audi</td>\n",
       "      <td>gas</td>\n",
       "      <td>std</td>\n",
       "      <td>four</td>\n",
       "      <td>sedan</td>\n",
       "      <td>4wd</td>\n",
       "      <td>front</td>\n",
       "      <td>99.4</td>\n",
       "      <td>176.6</td>\n",
       "      <td>66.4</td>\n",
       "      <td>54.3</td>\n",
       "      <td>2824</td>\n",
       "      <td>ohc</td>\n",
       "      <td>five</td>\n",
       "      <td>136</td>\n",
       "      <td>mpfi</td>\n",
       "      <td>3.19</td>\n",
       "      <td>3.4</td>\n",
       "      <td>8.0</td>\n",
       "      <td>115</td>\n",
       "      <td>5500</td>\n",
       "      <td>18</td>\n",
       "      <td>22</td>\n",
       "      <td>17450</td>\n",
       "    </tr>\n",
       "    <tr>\n",
       "      <th>4</th>\n",
       "      <td>2</td>\n",
       "      <td>?</td>\n",
       "      <td>audi</td>\n",
       "      <td>gas</td>\n",
       "      <td>std</td>\n",
       "      <td>two</td>\n",
       "      <td>sedan</td>\n",
       "      <td>fwd</td>\n",
       "      <td>front</td>\n",
       "      <td>99.8</td>\n",
       "      <td>177.3</td>\n",
       "      <td>66.3</td>\n",
       "      <td>53.1</td>\n",
       "      <td>2507</td>\n",
       "      <td>ohc</td>\n",
       "      <td>five</td>\n",
       "      <td>136</td>\n",
       "      <td>mpfi</td>\n",
       "      <td>3.19</td>\n",
       "      <td>3.4</td>\n",
       "      <td>8.5</td>\n",
       "      <td>110</td>\n",
       "      <td>5500</td>\n",
       "      <td>19</td>\n",
       "      <td>25</td>\n",
       "      <td>15250</td>\n",
       "    </tr>\n",
       "  </tbody>\n",
       "</table>\n",
       "</div>"
      ],
      "text/plain": [
       "   symboling normalized-losses         make fuel-type aspiration num-of-doors  \\\n",
       "0          3                 ?  alfa-romero       gas        std          two   \n",
       "1          1                 ?  alfa-romero       gas        std          two   \n",
       "2          2               164         audi       gas        std         four   \n",
       "3          2               164         audi       gas        std         four   \n",
       "4          2                 ?         audi       gas        std          two   \n",
       "\n",
       "    body-style drive-wheels engine-location  wheel-base  length  width  \\\n",
       "0  convertible          rwd           front        88.6   168.8   64.1   \n",
       "1    hatchback          rwd           front        94.5   171.2   65.5   \n",
       "2        sedan          fwd           front        99.8   176.6   66.2   \n",
       "3        sedan          4wd           front        99.4   176.6   66.4   \n",
       "4        sedan          fwd           front        99.8   177.3   66.3   \n",
       "\n",
       "   height  curb-weight engine-type num-of-cylinders  engine-size fuel-system  \\\n",
       "0    48.8         2548        dohc             four          130        mpfi   \n",
       "1    52.4         2823        ohcv              six          152        mpfi   \n",
       "2    54.3         2337         ohc             four          109        mpfi   \n",
       "3    54.3         2824         ohc             five          136        mpfi   \n",
       "4    53.1         2507         ohc             five          136        mpfi   \n",
       "\n",
       "   bore stroke  compression-ratio horsepower peak-rpm  city-mpg  highway-mpg  \\\n",
       "0  3.47   2.68                9.0        111     5000        21           27   \n",
       "1  2.68   3.47                9.0        154     5000        19           26   \n",
       "2  3.19    3.4               10.0        102     5500        24           30   \n",
       "3  3.19    3.4                8.0        115     5500        18           22   \n",
       "4  3.19    3.4                8.5        110     5500        19           25   \n",
       "\n",
       "   price  \n",
       "0  16500  \n",
       "1  16500  \n",
       "2  13950  \n",
       "3  17450  \n",
       "4  15250  "
      ]
     },
     "execution_count": 226,
     "metadata": {},
     "output_type": "execute_result"
    }
   ],
   "source": [
    "# Assign Column Headers \n",
    "headers = [\"symboling\", \"normalized-losses\", \"make\", \n",
    "           \"fuel-type\", \"aspiration\",\"num-of-doors\",\n",
    "           \"body-style\",\"drive-wheels\", \"engine-location\",\n",
    "           \"wheel-base\",\"length\", \"width\",\"height\", \"curb-weight\",\n",
    "           \"engine-type\",\"num-of-cylinders\", \"engine-size\", \n",
    "           \"fuel-system\",\"bore\",\"stroke\", \"compression-ratio\",\n",
    "           \"horsepower\", \"peak-rpm\",\"city-mpg\",\"highway-mpg\",\"price\"]\n",
    "\n",
    "df.columns=headers\n",
    "\n",
    "df.head()"
   ]
  },
  {
   "cell_type": "markdown",
   "id": "9d023c91",
   "metadata": {},
   "source": [
    "### Data Preprocessing"
   ]
  },
  {
   "cell_type": "code",
   "execution_count": 227,
   "id": "44c7f22a",
   "metadata": {},
   "outputs": [],
   "source": [
    "# Replace any '?' into null\n",
    "df.replace(\"?\", pd.NA, inplace=True)"
   ]
  },
  {
   "cell_type": "code",
   "execution_count": 228,
   "id": "40f83558",
   "metadata": {},
   "outputs": [
    {
     "name": "stdout",
     "output_type": "stream",
     "text": [
      "Index(['symboling', 'normalized-losses', 'make', 'fuel-type', 'aspiration',\n",
      "       'num-of-doors', 'body-style', 'drive-wheels', 'engine-location',\n",
      "       'wheel-base', 'length', 'width', 'height', 'curb-weight', 'engine-type',\n",
      "       'num-of-cylinders', 'engine-size', 'fuel-system', 'bore', 'stroke',\n",
      "       'compression-ratio', 'horsepower', 'peak-rpm', 'citykm', 'highway_km',\n",
      "       'price'],\n",
      "      dtype='object')\n"
     ]
    },
    {
     "data": {
      "text/plain": [
       "symboling              int64\n",
       "normalized-losses     object\n",
       "make                  object\n",
       "fuel-type             object\n",
       "aspiration            object\n",
       "num-of-doors          object\n",
       "body-style            object\n",
       "drive-wheels          object\n",
       "engine-location       object\n",
       "wheel-base           float64\n",
       "length               float64\n",
       "width                float64\n",
       "height               float64\n",
       "curb-weight            int64\n",
       "engine-type           object\n",
       "num-of-cylinders      object\n",
       "engine-size            int64\n",
       "fuel-system           object\n",
       "bore                  object\n",
       "stroke                object\n",
       "compression-ratio    float64\n",
       "horsepower            object\n",
       "peak-rpm              object\n",
       "citykm               float64\n",
       "highway_km           float64\n",
       "price                 object\n",
       "dtype: object"
      ]
     },
     "execution_count": 228,
     "metadata": {},
     "output_type": "execute_result"
    }
   ],
   "source": [
    "# Since fuel consumption is measured differently in different regions,\n",
    "#  we convert miles per gallon (MPG) to liters per 100 kilometers (L/100km)\n",
    "\n",
    "df['city-mpg'] = 235 / df['city-mpg']\n",
    "df.rename(columns = {'city-mpg': \"citykm\"}, inplace=True)\n",
    "\n",
    "df['highway-mpg'] = 235 / df['highway-mpg']\n",
    "df.rename(columns = {'highway-mpg': \"highway_km\"}, inplace=True)\n",
    "print(df.columns)\n",
    "\n",
    "df.dtypes"
   ]
  },
  {
   "cell_type": "code",
   "execution_count": 229,
   "id": "cec588dd",
   "metadata": {},
   "outputs": [],
   "source": [
    "# Convert to numeric\n",
    "numeric_cols = [\"normalized-losses\", \"bore\", \"stroke\", \"horsepower\", \"peak-rpm\", \"price\"]\n",
    "for col in numeric_cols:\n",
    "    df[col] = pd.to_numeric(df[col], errors='coerce')"
   ]
  },
  {
   "cell_type": "code",
   "execution_count": 230,
   "id": "b46f5eab",
   "metadata": {},
   "outputs": [
    {
     "data": {
      "text/plain": [
       "symboling             0\n",
       "normalized-losses    40\n",
       "make                  0\n",
       "fuel-type             0\n",
       "aspiration            0\n",
       "num-of-doors          2\n",
       "body-style            0\n",
       "drive-wheels          0\n",
       "engine-location       0\n",
       "wheel-base            0\n",
       "length                0\n",
       "width                 0\n",
       "height                0\n",
       "curb-weight           0\n",
       "engine-type           0\n",
       "num-of-cylinders      0\n",
       "engine-size           0\n",
       "fuel-system           0\n",
       "bore                  4\n",
       "stroke                4\n",
       "compression-ratio     0\n",
       "horsepower            2\n",
       "peak-rpm              2\n",
       "citykm                0\n",
       "highway_km            0\n",
       "price                 4\n",
       "dtype: int64"
      ]
     },
     "execution_count": 230,
     "metadata": {},
     "output_type": "execute_result"
    }
   ],
   "source": [
    "# Checking For Missing Values \n",
    "df.isna().sum()"
   ]
  },
  {
   "cell_type": "code",
   "execution_count": 231,
   "id": "85ac3119",
   "metadata": {},
   "outputs": [],
   "source": [
    "# Fill missing numeric values with mean\n",
    "df.fillna(df.mean(numeric_only=True), inplace=True)"
   ]
  },
  {
   "cell_type": "code",
   "execution_count": 232,
   "id": "2483be22",
   "metadata": {},
   "outputs": [
    {
     "name": "stdout",
     "output_type": "stream",
     "text": [
      "Duplicated data are  0\n"
     ]
    }
   ],
   "source": [
    "# Checking For Duplicated Data\n",
    "print(\"Duplicated data are \" ,df.duplicated().sum())\n"
   ]
  },
  {
   "cell_type": "code",
   "execution_count": 233,
   "id": "70c46cbe",
   "metadata": {},
   "outputs": [
    {
     "data": {
      "text/html": [
       "<div>\n",
       "<style scoped>\n",
       "    .dataframe tbody tr th:only-of-type {\n",
       "        vertical-align: middle;\n",
       "    }\n",
       "\n",
       "    .dataframe tbody tr th {\n",
       "        vertical-align: top;\n",
       "    }\n",
       "\n",
       "    .dataframe thead th {\n",
       "        text-align: right;\n",
       "    }\n",
       "</style>\n",
       "<table border=\"1\" class=\"dataframe\">\n",
       "  <thead>\n",
       "    <tr style=\"text-align: right;\">\n",
       "      <th></th>\n",
       "      <th>symboling</th>\n",
       "      <th>normalized-losses</th>\n",
       "      <th>make</th>\n",
       "      <th>fuel-type</th>\n",
       "      <th>aspiration</th>\n",
       "      <th>num-of-doors</th>\n",
       "      <th>body-style</th>\n",
       "      <th>drive-wheels</th>\n",
       "      <th>engine-location</th>\n",
       "      <th>wheel-base</th>\n",
       "      <th>length</th>\n",
       "      <th>width</th>\n",
       "      <th>height</th>\n",
       "      <th>curb-weight</th>\n",
       "      <th>engine-type</th>\n",
       "      <th>num-of-cylinders</th>\n",
       "      <th>engine-size</th>\n",
       "      <th>fuel-system</th>\n",
       "      <th>bore</th>\n",
       "      <th>stroke</th>\n",
       "      <th>compression-ratio</th>\n",
       "      <th>horsepower</th>\n",
       "      <th>peak-rpm</th>\n",
       "      <th>citykm</th>\n",
       "      <th>highway_km</th>\n",
       "      <th>price</th>\n",
       "    </tr>\n",
       "  </thead>\n",
       "  <tbody>\n",
       "    <tr>\n",
       "      <th>26</th>\n",
       "      <td>1</td>\n",
       "      <td>148.0</td>\n",
       "      <td>dodge</td>\n",
       "      <td>gas</td>\n",
       "      <td>turbo</td>\n",
       "      <td>&lt;NA&gt;</td>\n",
       "      <td>sedan</td>\n",
       "      <td>fwd</td>\n",
       "      <td>front</td>\n",
       "      <td>93.7</td>\n",
       "      <td>157.3</td>\n",
       "      <td>63.8</td>\n",
       "      <td>50.6</td>\n",
       "      <td>2191</td>\n",
       "      <td>ohc</td>\n",
       "      <td>four</td>\n",
       "      <td>98</td>\n",
       "      <td>mpfi</td>\n",
       "      <td>3.03</td>\n",
       "      <td>3.39</td>\n",
       "      <td>7.6</td>\n",
       "      <td>102.0</td>\n",
       "      <td>5500.0</td>\n",
       "      <td>9.791667</td>\n",
       "      <td>7.833333</td>\n",
       "      <td>8558.0</td>\n",
       "    </tr>\n",
       "    <tr>\n",
       "      <th>62</th>\n",
       "      <td>0</td>\n",
       "      <td>122.0</td>\n",
       "      <td>mazda</td>\n",
       "      <td>diesel</td>\n",
       "      <td>std</td>\n",
       "      <td>&lt;NA&gt;</td>\n",
       "      <td>sedan</td>\n",
       "      <td>fwd</td>\n",
       "      <td>front</td>\n",
       "      <td>98.8</td>\n",
       "      <td>177.8</td>\n",
       "      <td>66.5</td>\n",
       "      <td>55.5</td>\n",
       "      <td>2443</td>\n",
       "      <td>ohc</td>\n",
       "      <td>four</td>\n",
       "      <td>122</td>\n",
       "      <td>idi</td>\n",
       "      <td>3.39</td>\n",
       "      <td>3.39</td>\n",
       "      <td>22.7</td>\n",
       "      <td>64.0</td>\n",
       "      <td>4650.0</td>\n",
       "      <td>6.527778</td>\n",
       "      <td>5.595238</td>\n",
       "      <td>10795.0</td>\n",
       "    </tr>\n",
       "  </tbody>\n",
       "</table>\n",
       "</div>"
      ],
      "text/plain": [
       "    symboling  normalized-losses   make fuel-type aspiration num-of-doors  \\\n",
       "26          1              148.0  dodge       gas      turbo         <NA>   \n",
       "62          0              122.0  mazda    diesel        std         <NA>   \n",
       "\n",
       "   body-style drive-wheels engine-location  wheel-base  length  width  height  \\\n",
       "26      sedan          fwd           front        93.7   157.3   63.8    50.6   \n",
       "62      sedan          fwd           front        98.8   177.8   66.5    55.5   \n",
       "\n",
       "    curb-weight engine-type num-of-cylinders  engine-size fuel-system  bore  \\\n",
       "26         2191         ohc             four           98        mpfi  3.03   \n",
       "62         2443         ohc             four          122         idi  3.39   \n",
       "\n",
       "    stroke  compression-ratio  horsepower  peak-rpm    citykm  highway_km  \\\n",
       "26    3.39                7.6       102.0    5500.0  9.791667    7.833333   \n",
       "62    3.39               22.7        64.0    4650.0  6.527778    5.595238   \n",
       "\n",
       "      price  \n",
       "26   8558.0  \n",
       "62  10795.0  "
      ]
     },
     "execution_count": 233,
     "metadata": {},
     "output_type": "execute_result"
    }
   ],
   "source": [
    "df[df['num-of-doors'].isnull()]"
   ]
  },
  {
   "cell_type": "code",
   "execution_count": 237,
   "id": "b00c3845",
   "metadata": {},
   "outputs": [
    {
     "data": {
      "text/plain": [
       "symboling            0\n",
       "normalized-losses    0\n",
       "make                 0\n",
       "fuel-type            0\n",
       "aspiration           0\n",
       "num-of-doors         0\n",
       "body-style           0\n",
       "drive-wheels         0\n",
       "engine-location      0\n",
       "wheel-base           0\n",
       "length               0\n",
       "width                0\n",
       "height               0\n",
       "curb-weight          0\n",
       "engine-type          0\n",
       "num-of-cylinders     0\n",
       "engine-size          0\n",
       "fuel-system          0\n",
       "bore                 0\n",
       "stroke               0\n",
       "compression-ratio    0\n",
       "horsepower           0\n",
       "peak-rpm             0\n",
       "citykm               0\n",
       "highway_km           0\n",
       "price                0\n",
       "dtype: int64"
      ]
     },
     "execution_count": 237,
     "metadata": {},
     "output_type": "execute_result"
    }
   ],
   "source": [
    "df = df.dropna(subset=[\"num-of-doors\"])\n",
    "df.isnull().sum()"
   ]
  },
  {
   "cell_type": "code",
   "execution_count": 238,
   "id": "81c08489",
   "metadata": {},
   "outputs": [
    {
     "name": "stderr",
     "output_type": "stream",
     "text": [
      "/var/folders/yb/g6h5659x6z78yqc35_kfmpfm0000gn/T/ipykernel_19825/4202075529.py:2: FutureWarning: A value is trying to be set on a copy of a DataFrame or Series through chained assignment using an inplace method.\n",
      "The behavior will change in pandas 3.0. This inplace method will never work because the intermediate object on which we are setting values always behaves as a copy.\n",
      "\n",
      "For example, when doing 'df[col].method(value, inplace=True)', try using 'df.method({col: value}, inplace=True)' or df[col] = df[col].method(value) instead, to perform the operation inplace on the original object.\n",
      "\n",
      "\n",
      "  df[\"num-of-doors\"].replace({\"four\": 4, \"two\": 2}, inplace=True)\n",
      "/var/folders/yb/g6h5659x6z78yqc35_kfmpfm0000gn/T/ipykernel_19825/4202075529.py:2: FutureWarning: Downcasting behavior in `replace` is deprecated and will be removed in a future version. To retain the old behavior, explicitly call `result.infer_objects(copy=False)`. To opt-in to the future behavior, set `pd.set_option('future.no_silent_downcasting', True)`\n",
      "  df[\"num-of-doors\"].replace({\"four\": 4, \"two\": 2}, inplace=True)\n",
      "/var/folders/yb/g6h5659x6z78yqc35_kfmpfm0000gn/T/ipykernel_19825/4202075529.py:2: SettingWithCopyWarning: \n",
      "A value is trying to be set on a copy of a slice from a DataFrame\n",
      "\n",
      "See the caveats in the documentation: https://pandas.pydata.org/pandas-docs/stable/user_guide/indexing.html#returning-a-view-versus-a-copy\n",
      "  df[\"num-of-doors\"].replace({\"four\": 4, \"two\": 2}, inplace=True)\n",
      "/var/folders/yb/g6h5659x6z78yqc35_kfmpfm0000gn/T/ipykernel_19825/4202075529.py:3: FutureWarning: A value is trying to be set on a copy of a DataFrame or Series through chained assignment using an inplace method.\n",
      "The behavior will change in pandas 3.0. This inplace method will never work because the intermediate object on which we are setting values always behaves as a copy.\n",
      "\n",
      "For example, when doing 'df[col].method(value, inplace=True)', try using 'df.method({col: value}, inplace=True)' or df[col] = df[col].method(value) instead, to perform the operation inplace on the original object.\n",
      "\n",
      "\n",
      "  df[\"num-of-cylinders\"].replace({\n",
      "/var/folders/yb/g6h5659x6z78yqc35_kfmpfm0000gn/T/ipykernel_19825/4202075529.py:3: FutureWarning: Downcasting behavior in `replace` is deprecated and will be removed in a future version. To retain the old behavior, explicitly call `result.infer_objects(copy=False)`. To opt-in to the future behavior, set `pd.set_option('future.no_silent_downcasting', True)`\n",
      "  df[\"num-of-cylinders\"].replace({\n",
      "/var/folders/yb/g6h5659x6z78yqc35_kfmpfm0000gn/T/ipykernel_19825/4202075529.py:3: SettingWithCopyWarning: \n",
      "A value is trying to be set on a copy of a slice from a DataFrame\n",
      "\n",
      "See the caveats in the documentation: https://pandas.pydata.org/pandas-docs/stable/user_guide/indexing.html#returning-a-view-versus-a-copy\n",
      "  df[\"num-of-cylinders\"].replace({\n",
      "/var/folders/yb/g6h5659x6z78yqc35_kfmpfm0000gn/T/ipykernel_19825/4202075529.py:7: SettingWithCopyWarning: \n",
      "A value is trying to be set on a copy of a slice from a DataFrame.\n",
      "Try using .loc[row_indexer,col_indexer] = value instead\n",
      "\n",
      "See the caveats in the documentation: https://pandas.pydata.org/pandas-docs/stable/user_guide/indexing.html#returning-a-view-versus-a-copy\n",
      "  df[\"num-of-doors\"] = pd.to_numeric(df[\"num-of-doors\"], errors='coerce')\n",
      "/var/folders/yb/g6h5659x6z78yqc35_kfmpfm0000gn/T/ipykernel_19825/4202075529.py:8: SettingWithCopyWarning: \n",
      "A value is trying to be set on a copy of a slice from a DataFrame.\n",
      "Try using .loc[row_indexer,col_indexer] = value instead\n",
      "\n",
      "See the caveats in the documentation: https://pandas.pydata.org/pandas-docs/stable/user_guide/indexing.html#returning-a-view-versus-a-copy\n",
      "  df[\"num-of-cylinders\"] = pd.to_numeric(df[\"num-of-cylinders\"], errors='coerce')\n"
     ]
    }
   ],
   "source": [
    "# Clean and convert categorical numerics\n",
    "df[\"num-of-doors\"].replace({\"four\": 4, \"two\": 2}, inplace=True)\n",
    "df[\"num-of-cylinders\"].replace({\n",
    "    \"two\": 2, \"three\": 3, \"four\": 4, \"five\": 5,\n",
    "    \"six\": 6, \"eight\": 8, \"twelve\": 12\n",
    "}, inplace=True)\n",
    "df[\"num-of-doors\"] = pd.to_numeric(df[\"num-of-doors\"], errors='coerce')\n",
    "df[\"num-of-cylinders\"] = pd.to_numeric(df[\"num-of-cylinders\"], errors='coerce')\n"
   ]
  },
  {
   "cell_type": "code",
   "execution_count": 239,
   "id": "fc87b3b7",
   "metadata": {},
   "outputs": [
    {
     "data": {
      "text/html": [
       "<div>\n",
       "<style scoped>\n",
       "    .dataframe tbody tr th:only-of-type {\n",
       "        vertical-align: middle;\n",
       "    }\n",
       "\n",
       "    .dataframe tbody tr th {\n",
       "        vertical-align: top;\n",
       "    }\n",
       "\n",
       "    .dataframe thead th {\n",
       "        text-align: right;\n",
       "    }\n",
       "</style>\n",
       "<table border=\"1\" class=\"dataframe\">\n",
       "  <thead>\n",
       "    <tr style=\"text-align: right;\">\n",
       "      <th></th>\n",
       "      <th>symboling</th>\n",
       "      <th>normalized-losses</th>\n",
       "      <th>make</th>\n",
       "      <th>fuel-type</th>\n",
       "      <th>aspiration</th>\n",
       "      <th>num-of-doors</th>\n",
       "      <th>body-style</th>\n",
       "      <th>drive-wheels</th>\n",
       "      <th>engine-location</th>\n",
       "      <th>wheel-base</th>\n",
       "      <th>length</th>\n",
       "      <th>width</th>\n",
       "      <th>height</th>\n",
       "      <th>curb-weight</th>\n",
       "      <th>engine-type</th>\n",
       "      <th>num-of-cylinders</th>\n",
       "      <th>engine-size</th>\n",
       "      <th>fuel-system</th>\n",
       "      <th>bore</th>\n",
       "      <th>stroke</th>\n",
       "      <th>compression-ratio</th>\n",
       "      <th>horsepower</th>\n",
       "      <th>peak-rpm</th>\n",
       "      <th>citykm</th>\n",
       "      <th>highway_km</th>\n",
       "      <th>price</th>\n",
       "    </tr>\n",
       "  </thead>\n",
       "  <tbody>\n",
       "    <tr>\n",
       "      <th>0</th>\n",
       "      <td>3</td>\n",
       "      <td>122.0</td>\n",
       "      <td>alfa-romero</td>\n",
       "      <td>gas</td>\n",
       "      <td>std</td>\n",
       "      <td>2</td>\n",
       "      <td>convertible</td>\n",
       "      <td>rwd</td>\n",
       "      <td>front</td>\n",
       "      <td>88.6</td>\n",
       "      <td>168.8</td>\n",
       "      <td>64.1</td>\n",
       "      <td>48.8</td>\n",
       "      <td>2548</td>\n",
       "      <td>dohc</td>\n",
       "      <td>4</td>\n",
       "      <td>130</td>\n",
       "      <td>mpfi</td>\n",
       "      <td>3.47</td>\n",
       "      <td>2.68</td>\n",
       "      <td>9.0</td>\n",
       "      <td>111.0</td>\n",
       "      <td>5000.0</td>\n",
       "      <td>11.190476</td>\n",
       "      <td>8.703704</td>\n",
       "      <td>16500.0</td>\n",
       "    </tr>\n",
       "    <tr>\n",
       "      <th>1</th>\n",
       "      <td>1</td>\n",
       "      <td>122.0</td>\n",
       "      <td>alfa-romero</td>\n",
       "      <td>gas</td>\n",
       "      <td>std</td>\n",
       "      <td>2</td>\n",
       "      <td>hatchback</td>\n",
       "      <td>rwd</td>\n",
       "      <td>front</td>\n",
       "      <td>94.5</td>\n",
       "      <td>171.2</td>\n",
       "      <td>65.5</td>\n",
       "      <td>52.4</td>\n",
       "      <td>2823</td>\n",
       "      <td>ohcv</td>\n",
       "      <td>6</td>\n",
       "      <td>152</td>\n",
       "      <td>mpfi</td>\n",
       "      <td>2.68</td>\n",
       "      <td>3.47</td>\n",
       "      <td>9.0</td>\n",
       "      <td>154.0</td>\n",
       "      <td>5000.0</td>\n",
       "      <td>12.368421</td>\n",
       "      <td>9.038462</td>\n",
       "      <td>16500.0</td>\n",
       "    </tr>\n",
       "    <tr>\n",
       "      <th>2</th>\n",
       "      <td>2</td>\n",
       "      <td>164.0</td>\n",
       "      <td>audi</td>\n",
       "      <td>gas</td>\n",
       "      <td>std</td>\n",
       "      <td>4</td>\n",
       "      <td>sedan</td>\n",
       "      <td>fwd</td>\n",
       "      <td>front</td>\n",
       "      <td>99.8</td>\n",
       "      <td>176.6</td>\n",
       "      <td>66.2</td>\n",
       "      <td>54.3</td>\n",
       "      <td>2337</td>\n",
       "      <td>ohc</td>\n",
       "      <td>4</td>\n",
       "      <td>109</td>\n",
       "      <td>mpfi</td>\n",
       "      <td>3.19</td>\n",
       "      <td>3.40</td>\n",
       "      <td>10.0</td>\n",
       "      <td>102.0</td>\n",
       "      <td>5500.0</td>\n",
       "      <td>9.791667</td>\n",
       "      <td>7.833333</td>\n",
       "      <td>13950.0</td>\n",
       "    </tr>\n",
       "    <tr>\n",
       "      <th>3</th>\n",
       "      <td>2</td>\n",
       "      <td>164.0</td>\n",
       "      <td>audi</td>\n",
       "      <td>gas</td>\n",
       "      <td>std</td>\n",
       "      <td>4</td>\n",
       "      <td>sedan</td>\n",
       "      <td>4wd</td>\n",
       "      <td>front</td>\n",
       "      <td>99.4</td>\n",
       "      <td>176.6</td>\n",
       "      <td>66.4</td>\n",
       "      <td>54.3</td>\n",
       "      <td>2824</td>\n",
       "      <td>ohc</td>\n",
       "      <td>5</td>\n",
       "      <td>136</td>\n",
       "      <td>mpfi</td>\n",
       "      <td>3.19</td>\n",
       "      <td>3.40</td>\n",
       "      <td>8.0</td>\n",
       "      <td>115.0</td>\n",
       "      <td>5500.0</td>\n",
       "      <td>13.055556</td>\n",
       "      <td>10.681818</td>\n",
       "      <td>17450.0</td>\n",
       "    </tr>\n",
       "    <tr>\n",
       "      <th>4</th>\n",
       "      <td>2</td>\n",
       "      <td>122.0</td>\n",
       "      <td>audi</td>\n",
       "      <td>gas</td>\n",
       "      <td>std</td>\n",
       "      <td>2</td>\n",
       "      <td>sedan</td>\n",
       "      <td>fwd</td>\n",
       "      <td>front</td>\n",
       "      <td>99.8</td>\n",
       "      <td>177.3</td>\n",
       "      <td>66.3</td>\n",
       "      <td>53.1</td>\n",
       "      <td>2507</td>\n",
       "      <td>ohc</td>\n",
       "      <td>5</td>\n",
       "      <td>136</td>\n",
       "      <td>mpfi</td>\n",
       "      <td>3.19</td>\n",
       "      <td>3.40</td>\n",
       "      <td>8.5</td>\n",
       "      <td>110.0</td>\n",
       "      <td>5500.0</td>\n",
       "      <td>12.368421</td>\n",
       "      <td>9.400000</td>\n",
       "      <td>15250.0</td>\n",
       "    </tr>\n",
       "  </tbody>\n",
       "</table>\n",
       "</div>"
      ],
      "text/plain": [
       "   symboling  normalized-losses         make fuel-type aspiration  \\\n",
       "0          3              122.0  alfa-romero       gas        std   \n",
       "1          1              122.0  alfa-romero       gas        std   \n",
       "2          2              164.0         audi       gas        std   \n",
       "3          2              164.0         audi       gas        std   \n",
       "4          2              122.0         audi       gas        std   \n",
       "\n",
       "   num-of-doors   body-style drive-wheels engine-location  wheel-base  length  \\\n",
       "0             2  convertible          rwd           front        88.6   168.8   \n",
       "1             2    hatchback          rwd           front        94.5   171.2   \n",
       "2             4        sedan          fwd           front        99.8   176.6   \n",
       "3             4        sedan          4wd           front        99.4   176.6   \n",
       "4             2        sedan          fwd           front        99.8   177.3   \n",
       "\n",
       "   width  height  curb-weight engine-type  num-of-cylinders  engine-size  \\\n",
       "0   64.1    48.8         2548        dohc                 4          130   \n",
       "1   65.5    52.4         2823        ohcv                 6          152   \n",
       "2   66.2    54.3         2337         ohc                 4          109   \n",
       "3   66.4    54.3         2824         ohc                 5          136   \n",
       "4   66.3    53.1         2507         ohc                 5          136   \n",
       "\n",
       "  fuel-system  bore  stroke  compression-ratio  horsepower  peak-rpm  \\\n",
       "0        mpfi  3.47    2.68                9.0       111.0    5000.0   \n",
       "1        mpfi  2.68    3.47                9.0       154.0    5000.0   \n",
       "2        mpfi  3.19    3.40               10.0       102.0    5500.0   \n",
       "3        mpfi  3.19    3.40                8.0       115.0    5500.0   \n",
       "4        mpfi  3.19    3.40                8.5       110.0    5500.0   \n",
       "\n",
       "      citykm  highway_km    price  \n",
       "0  11.190476    8.703704  16500.0  \n",
       "1  12.368421    9.038462  16500.0  \n",
       "2   9.791667    7.833333  13950.0  \n",
       "3  13.055556   10.681818  17450.0  \n",
       "4  12.368421    9.400000  15250.0  "
      ]
     },
     "execution_count": 239,
     "metadata": {},
     "output_type": "execute_result"
    }
   ],
   "source": [
    "df.head()"
   ]
  },
  {
   "cell_type": "code",
   "execution_count": 240,
   "id": "2b038b16",
   "metadata": {},
   "outputs": [
    {
     "name": "stdout",
     "output_type": "stream",
     "text": [
      "<class 'pandas.core.frame.DataFrame'>\n",
      "Index: 202 entries, 0 to 203\n",
      "Data columns (total 26 columns):\n",
      " #   Column             Non-Null Count  Dtype  \n",
      "---  ------             --------------  -----  \n",
      " 0   symboling          202 non-null    int64  \n",
      " 1   normalized-losses  202 non-null    float64\n",
      " 2   make               202 non-null    object \n",
      " 3   fuel-type          202 non-null    object \n",
      " 4   aspiration         202 non-null    object \n",
      " 5   num-of-doors       202 non-null    int64  \n",
      " 6   body-style         202 non-null    object \n",
      " 7   drive-wheels       202 non-null    object \n",
      " 8   engine-location    202 non-null    object \n",
      " 9   wheel-base         202 non-null    float64\n",
      " 10  length             202 non-null    float64\n",
      " 11  width              202 non-null    float64\n",
      " 12  height             202 non-null    float64\n",
      " 13  curb-weight        202 non-null    int64  \n",
      " 14  engine-type        202 non-null    object \n",
      " 15  num-of-cylinders   202 non-null    int64  \n",
      " 16  engine-size        202 non-null    int64  \n",
      " 17  fuel-system        202 non-null    object \n",
      " 18  bore               202 non-null    float64\n",
      " 19  stroke             202 non-null    float64\n",
      " 20  compression-ratio  202 non-null    float64\n",
      " 21  horsepower         202 non-null    float64\n",
      " 22  peak-rpm           202 non-null    float64\n",
      " 23  citykm             202 non-null    float64\n",
      " 24  highway_km         202 non-null    float64\n",
      " 25  price              202 non-null    float64\n",
      "dtypes: float64(13), int64(5), object(8)\n",
      "memory usage: 42.6+ KB\n"
     ]
    }
   ],
   "source": [
    "# Checking The Data Types Also Show The Null Columns\n",
    "df.info()"
   ]
  },
  {
   "cell_type": "markdown",
   "id": "8e496242",
   "metadata": {},
   "source": [
    "### EDA & Data Visualization"
   ]
  },
  {
   "cell_type": "code",
   "execution_count": null,
   "id": "fe96822e",
   "metadata": {},
   "outputs": [
    {
     "name": "stderr",
     "output_type": "stream",
     "text": [
      "/var/folders/yb/g6h5659x6z78yqc35_kfmpfm0000gn/T/ipykernel_19825/2163599482.py:5: SettingWithCopyWarning: \n",
      "A value is trying to be set on a copy of a slice from a DataFrame.\n",
      "Try using .loc[row_indexer,col_indexer] = value instead\n",
      "\n",
      "See the caveats in the documentation: https://pandas.pydata.org/pandas-docs/stable/user_guide/indexing.html#returning-a-view-versus-a-copy\n",
      "  df['length'] = df['length']/df['length'].max()\n",
      "/var/folders/yb/g6h5659x6z78yqc35_kfmpfm0000gn/T/ipykernel_19825/2163599482.py:6: SettingWithCopyWarning: \n",
      "A value is trying to be set on a copy of a slice from a DataFrame.\n",
      "Try using .loc[row_indexer,col_indexer] = value instead\n",
      "\n",
      "See the caveats in the documentation: https://pandas.pydata.org/pandas-docs/stable/user_guide/indexing.html#returning-a-view-versus-a-copy\n",
      "  df['width'] = df['width']/df['width'].max()\n",
      "/var/folders/yb/g6h5659x6z78yqc35_kfmpfm0000gn/T/ipykernel_19825/2163599482.py:7: SettingWithCopyWarning: \n",
      "A value is trying to be set on a copy of a slice from a DataFrame.\n",
      "Try using .loc[row_indexer,col_indexer] = value instead\n",
      "\n",
      "See the caveats in the documentation: https://pandas.pydata.org/pandas-docs/stable/user_guide/indexing.html#returning-a-view-versus-a-copy\n",
      "  df['height'] = df['height']/df['height'].max()\n",
      "/var/folders/yb/g6h5659x6z78yqc35_kfmpfm0000gn/T/ipykernel_19825/2163599482.py:25: SettingWithCopyWarning: \n",
      "A value is trying to be set on a copy of a slice from a DataFrame.\n",
      "Try using .loc[row_indexer,col_indexer] = value instead\n",
      "\n",
      "See the caveats in the documentation: https://pandas.pydata.org/pandas-docs/stable/user_guide/indexing.html#returning-a-view-versus-a-copy\n",
      "  df['price-binned'] = pd.cut(df['price'], bins,\n",
      "/var/folders/yb/g6h5659x6z78yqc35_kfmpfm0000gn/T/ipykernel_19825/2163599482.py:30: FutureWarning: \n",
      "\n",
      "Passing `palette` without assigning `hue` is deprecated and will be removed in v0.14.0. Assign the `y` variable to `hue` and set `legend=False` for the same effect.\n",
      "\n",
      "  sns.countplot(df[\"price-binned\"], palette=colors)\n",
      "/var/folders/yb/g6h5659x6z78yqc35_kfmpfm0000gn/T/ipykernel_19825/2163599482.py:30: UserWarning: The palette list has more values (13) than needed (3), which may not be intended.\n",
      "  sns.countplot(df[\"price-binned\"], palette=colors)\n"
     ]
    },
    {
     "data": {
      "image/png": "[encoded data removed]",
      "text/plain": [
       "<Figure size 640x480 with 1 Axes>"
      ]
     },
     "metadata": {},
     "output_type": "display_data"
    }
   ],
   "source": [
    "# Distribution of Cars by Price Tier\n",
    "# To ensure fair comparisons between different features, we normalize numerical columns.\n",
    "#  To categorize cars based on their price\n",
    "#  we divide the price range into three categories: Low, Medium and High\n",
    "\n",
    "df['length'] = df['length']/df['length'].max()\n",
    "df['width'] = df['width']/df['width'].max()\n",
    "df['height'] = df['height']/df['height'].max()\n",
    "\n",
    "colors = [ '#001B79',\n",
    "    '#0118D8',\n",
    "    '#074173',\n",
    "    '#0F67B1',\n",
    "    '#3559E0',\n",
    "    '#1B6B93',\n",
    "    '#006BFF',\n",
    "    '#3876BF',\n",
    "    '#0D92F4',\n",
    "    '#39A7FF',\n",
    "    '#80B3FF',\n",
    "    '#75C2F6',\n",
    "    '#68D2E8' ]\n",
    "# binning- grouping values\n",
    "bins = np.linspace(min(df['price']), max(df['price']), 4) \n",
    "group_names = ['Low', 'Medium', 'High']\n",
    "df['price-binned'] = pd.cut(df['price'], bins, \n",
    "                              labels = group_names, \n",
    "                              include_lowest = True)\n",
    "\n",
    "plt.ylabel(\"Price Tier\")\n",
    "sns.countplot(df[\"price-binned\"], palette=colors)\n",
    "plt.show()"
   ]
  },
  {
   "cell_type": "markdown",
   "id": "7bc645e1",
   "metadata": {},
   "source": [
    "**Insight:** Most cars fall into the low price range, indicating a market focus on low-tier vehicles."
   ]
  },
  {
   "cell_type": "code",
   "execution_count": null,
   "id": "be83e0e5",
   "metadata": {},
   "outputs": [
    {
     "name": "stderr",
     "output_type": "stream",
     "text": [
      "/var/folders/yb/g6h5659x6z78yqc35_kfmpfm0000gn/T/ipykernel_19825/1447191946.py:3: UserWarning: Ignoring `palette` because no `hue` variable has been assigned.\n",
      "  sns.histplot(df[\"price\"], kde=True, bins=20, palette=colors)\n"
     ]
    },
    {
     "data": {
      "image/png": "[encoded data removed]",
      "text/plain": [
       "<Figure size 640x480 with 1 Axes>"
      ]
     },
     "metadata": {},
     "output_type": "display_data"
    }
   ],
   "source": [
    "#  Price Distribution\n",
    "sns.histplot(df[\"price\"], kde=True, bins=20, palette=colors)\n",
    "plt.title(\"Price Distribution\")\n",
    "plt.show()\n"
   ]
  },
  {
   "cell_type": "markdown",
   "id": "b9d8a45a",
   "metadata": {},
   "source": [
    "**Insight:** Car prices are right-skewed, with a few expensive cars pulling the average upward."
   ]
  },
  {
   "cell_type": "code",
   "execution_count": null,
   "id": "2c3fa494",
   "metadata": {},
   "outputs": [
    {
     "name": "stderr",
     "output_type": "stream",
     "text": [
      "/var/folders/yb/g6h5659x6z78yqc35_kfmpfm0000gn/T/ipykernel_19825/3396175786.py:3: UserWarning: Ignoring `palette` because no `hue` variable has been assigned.\n",
      "  sns.histplot(df[\"horsepower\"], kde=True, bins=20, palette=colors)\n"
     ]
    },
    {
     "data": {
      "image/png": "[encoded data removed]",
      "text/plain": [
       "<Figure size 640x480 with 1 Axes>"
      ]
     },
     "metadata": {},
     "output_type": "display_data"
    }
   ],
   "source": [
    "sns.histplot(df[\"horsepower\"], kde=True, bins=20, palette=colors)\n",
    "plt.title(\"Horsepower Distribution\")\n",
    "plt.show()"
   ]
  },
  {
   "cell_type": "markdown",
   "id": "316417c5",
   "metadata": {},
   "source": [
    "**Insight:** Most cars have horsepower in the low to mid-range, suitable for city driving."
   ]
  },
  {
   "cell_type": "code",
   "execution_count": null,
   "id": "94e94d5a",
   "metadata": {},
   "outputs": [
    {
     "name": "stderr",
     "output_type": "stream",
     "text": [
      "/var/folders/yb/g6h5659x6z78yqc35_kfmpfm0000gn/T/ipykernel_19825/4145197734.py:3: FutureWarning: \n",
      "\n",
      "Passing `palette` without assigning `hue` is deprecated and will be removed in v0.14.0. Assign the `x` variable to `hue` and set `legend=False` for the same effect.\n",
      "\n",
      "  sns.boxplot(data=df, x=\"body-style\", y=\"price\", palette=colors)\n",
      "/var/folders/yb/g6h5659x6z78yqc35_kfmpfm0000gn/T/ipykernel_19825/4145197734.py:3: UserWarning: The palette list has more values (13) than needed (5), which may not be intended.\n",
      "  sns.boxplot(data=df, x=\"body-style\", y=\"price\", palette=colors)\n"
     ]
    },
    {
     "data": {
      "image/png": "[encoded data removed]",
      "text/plain": [
       "<Figure size 640x480 with 1 Axes>"
      ]
     },
     "metadata": {},
     "output_type": "display_data"
    }
   ],
   "source": [
    "sns.boxplot(data=df, x=\"body-style\", y=\"price\", palette=colors)\n",
    "plt.title(\"Price by Body Style\")\n",
    "plt.tick_params(axis='x', rotation=45)\n",
    "plt.show()"
   ]
  },
  {
   "cell_type": "markdown",
   "id": "2817b94e",
   "metadata": {},
   "source": [
    "**Insight:** Convertibles and hardtops are generally more expensive, possibly due to luxury features."
   ]
  },
  {
   "cell_type": "code",
   "execution_count": null,
   "id": "cccf4001",
   "metadata": {},
   "outputs": [
    {
     "data": {
      "image/png": "[encoded data removed]",
      "text/plain": [
       "<Figure size 640x480 with 1 Axes>"
      ]
     },
     "metadata": {},
     "output_type": "display_data"
    }
   ],
   "source": [
    "sns.scatterplot(data=df, x=\"engine-size\", y=\"price\", hue=\"fuel-type\")\n",
    "plt.title(\"Engine Size vs Price\")\n",
    "plt.show()"
   ]
  },
  {
   "cell_type": "markdown",
   "id": "a5c03dae",
   "metadata": {},
   "source": [
    "**Insight:** A positive correlation exists: as engine size increases, the price tends to rise."
   ]
  },
  {
   "cell_type": "code",
   "execution_count": null,
   "id": "9410bfab",
   "metadata": {},
   "outputs": [
    {
     "name": "stderr",
     "output_type": "stream",
     "text": [
      "/var/folders/yb/g6h5659x6z78yqc35_kfmpfm0000gn/T/ipykernel_19825/3845556731.py:3: FutureWarning: \n",
      "\n",
      "Passing `palette` without assigning `hue` is deprecated and will be removed in v0.14.0. Assign the `x` variable to `hue` and set `legend=False` for the same effect.\n",
      "\n",
      "  sns.barplot(data=avg_price_dw, x=\"drive-wheels\", y=\"price\", palette=colors)\n",
      "/var/folders/yb/g6h5659x6z78yqc35_kfmpfm0000gn/T/ipykernel_19825/3845556731.py:3: UserWarning: The palette list has more values (13) than needed (3), which may not be intended.\n",
      "  sns.barplot(data=avg_price_dw, x=\"drive-wheels\", y=\"price\", palette=colors)\n"
     ]
    },
    {
     "data": {
      "image/png": "[encoded data removed]",
      "text/plain": [
       "<Figure size 640x480 with 1 Axes>"
      ]
     },
     "metadata": {},
     "output_type": "display_data"
    }
   ],
   "source": [
    "avg_price_dw = df.groupby(\"drive-wheels\")[\"price\"].mean().reset_index()\n",
    "sns.barplot(data=avg_price_dw, x=\"drive-wheels\", y=\"price\", palette=colors)\n",
    "plt.title(\"Average Price by Drive Wheels\")\n",
    "plt.xlabel(\"Drive Wheels\")\n",
    "plt.tight_layout()\n",
    "plt.show()\n"
   ]
  },
  {
   "cell_type": "markdown",
   "id": "37e13b29",
   "metadata": {},
   "source": [
    "**Insight:** Rear-wheel drive cars tend to be more expensive, likely due to performance advantages."
   ]
  },
  {
   "cell_type": "code",
   "execution_count": 247,
   "id": "4271ab81",
   "metadata": {},
   "outputs": [
    {
     "name": "stderr",
     "output_type": "stream",
     "text": [
      "/var/folders/yb/g6h5659x6z78yqc35_kfmpfm0000gn/T/ipykernel_19825/3867714167.py:1: FutureWarning: \n",
      "\n",
      "Passing `palette` without assigning `hue` is deprecated and will be removed in v0.14.0. Assign the `x` variable to `hue` and set `legend=False` for the same effect.\n",
      "\n",
      "  sns.barplot(data=df, x=\"drive-wheels\", y='horsepower', palette=colors)\n",
      "/var/folders/yb/g6h5659x6z78yqc35_kfmpfm0000gn/T/ipykernel_19825/3867714167.py:1: UserWarning: The palette list has more values (13) than needed (3), which may not be intended.\n",
      "  sns.barplot(data=df, x=\"drive-wheels\", y='horsepower', palette=colors)\n"
     ]
    },
    {
     "data": {
      "image/png": "[encoded data removed]",
      "text/plain": [
       "<Figure size 640x480 with 1 Axes>"
      ]
     },
     "metadata": {},
     "output_type": "display_data"
    }
   ],
   "source": [
    "sns.barplot(data=df, x=\"drive-wheels\", y='horsepower', palette=colors)\n",
    "plt.title('Powerful Cars')\n",
    "plt.xlabel('Drive Wheels')\n",
    "plt.ylabel('Hourse Power')\n",
    "plt.show()\n"
   ]
  },
  {
   "cell_type": "markdown",
   "id": "1ce0d86e",
   "metadata": {},
   "source": [
    "**Insight:** Rear-wheel drive vehicles also tend to have more horsepower, supporting performance claims."
   ]
  },
  {
   "cell_type": "code",
   "execution_count": 248,
   "id": "30e75ac3",
   "metadata": {},
   "outputs": [
    {
     "name": "stderr",
     "output_type": "stream",
     "text": [
      "/var/folders/yb/g6h5659x6z78yqc35_kfmpfm0000gn/T/ipykernel_19825/3675202040.py:4: FutureWarning: \n",
      "\n",
      "Passing `palette` without assigning `hue` is deprecated and will be removed in v0.14.0. Assign the `x` variable to `hue` and set `legend=False` for the same effect.\n",
      "\n",
      "  sns.barplot(x=\"make\", y=\"price\", data=rwd_price_by_brand, palette=colors)\n"
     ]
    },
    {
     "data": {
      "image/png": "[encoded data removed]",
      "text/plain": [
       "<Figure size 1600x900 with 1 Axes>"
      ]
     },
     "metadata": {},
     "output_type": "display_data"
    }
   ],
   "source": [
    "plt.figure(figsize=(16,9))\n",
    "rwd_cars = df[df[\"drive-wheels\"] == \"rwd\"]\n",
    "rwd_price_by_brand = rwd_cars.groupby(\"make\")[\"price\"].mean().reset_index()\n",
    "sns.barplot(x=\"make\", y=\"price\", data=rwd_price_by_brand, palette=colors)\n",
    "plt.title(\"Average Price of Rear-Wheel Drive Cars by Brand\")\n",
    "plt.xticks(rotation=45)\n",
    "plt.ylabel(\"Average Price\")\n",
    "plt.xlabel(\"Car Make\")\n",
    "plt.tight_layout()\n",
    "plt.show()"
   ]
  },
  {
   "cell_type": "markdown",
   "id": "f4cc9521",
   "metadata": {},
   "source": [
    "**Insight:** Luxury brands dominate the higher end of rear-wheel drive car prices."
   ]
  },
  {
   "cell_type": "code",
   "execution_count": 257,
   "id": "91aa4db1",
   "metadata": {},
   "outputs": [
    {
     "data": {
      "text/html": [
       "<div>\n",
       "<style scoped>\n",
       "    .dataframe tbody tr th:only-of-type {\n",
       "        vertical-align: middle;\n",
       "    }\n",
       "\n",
       "    .dataframe tbody tr th {\n",
       "        vertical-align: top;\n",
       "    }\n",
       "\n",
       "    .dataframe thead th {\n",
       "        text-align: right;\n",
       "    }\n",
       "</style>\n",
       "<table border=\"1\" class=\"dataframe\">\n",
       "  <thead>\n",
       "    <tr style=\"text-align: right;\">\n",
       "      <th></th>\n",
       "      <th>make</th>\n",
       "      <th>fuel-type</th>\n",
       "      <th>body-style</th>\n",
       "      <th>citykm</th>\n",
       "      <th>highway_km</th>\n",
       "      <th>price</th>\n",
       "      <th>drive-wheels</th>\n",
       "    </tr>\n",
       "  </thead>\n",
       "  <tbody>\n",
       "    <tr>\n",
       "      <th>29</th>\n",
       "      <td>honda</td>\n",
       "      <td>gas</td>\n",
       "      <td>hatchback</td>\n",
       "      <td>4.795918</td>\n",
       "      <td>4.351852</td>\n",
       "      <td>6479.00</td>\n",
       "      <td>fwd</td>\n",
       "    </tr>\n",
       "    <tr>\n",
       "      <th>17</th>\n",
       "      <td>chevrolet</td>\n",
       "      <td>gas</td>\n",
       "      <td>hatchback</td>\n",
       "      <td>5.000000</td>\n",
       "      <td>4.433962</td>\n",
       "      <td>5151.00</td>\n",
       "      <td>fwd</td>\n",
       "    </tr>\n",
       "    <tr>\n",
       "      <th>89</th>\n",
       "      <td>nissan</td>\n",
       "      <td>diesel</td>\n",
       "      <td>sedan</td>\n",
       "      <td>5.222222</td>\n",
       "      <td>4.700000</td>\n",
       "      <td>7099.00</td>\n",
       "      <td>fwd</td>\n",
       "    </tr>\n",
       "    <tr>\n",
       "      <th>43</th>\n",
       "      <td>isuzu</td>\n",
       "      <td>gas</td>\n",
       "      <td>sedan</td>\n",
       "      <td>6.184211</td>\n",
       "      <td>5.465116</td>\n",
       "      <td>13205.69</td>\n",
       "      <td>fwd</td>\n",
       "    </tr>\n",
       "    <tr>\n",
       "      <th>31</th>\n",
       "      <td>honda</td>\n",
       "      <td>gas</td>\n",
       "      <td>hatchback</td>\n",
       "      <td>6.184211</td>\n",
       "      <td>5.595238</td>\n",
       "      <td>5399.00</td>\n",
       "      <td>fwd</td>\n",
       "    </tr>\n",
       "  </tbody>\n",
       "</table>\n",
       "</div>"
      ],
      "text/plain": [
       "         make fuel-type body-style    citykm  highway_km     price  \\\n",
       "29      honda       gas  hatchback  4.795918    4.351852   6479.00   \n",
       "17  chevrolet       gas  hatchback  5.000000    4.433962   5151.00   \n",
       "89     nissan    diesel      sedan  5.222222    4.700000   7099.00   \n",
       "43      isuzu       gas      sedan  6.184211    5.465116  13205.69   \n",
       "31      honda       gas  hatchback  6.184211    5.595238   5399.00   \n",
       "\n",
       "   drive-wheels  \n",
       "29          fwd  \n",
       "17          fwd  \n",
       "89          fwd  \n",
       "43          fwd  \n",
       "31          fwd  "
      ]
     },
     "execution_count": 257,
     "metadata": {},
     "output_type": "execute_result"
    }
   ],
   "source": [
    "# Getting Top 5 Brands in Gas Saving\n",
    "\n",
    "save_gas = df.sort_values(\"citykm\").head(5)\n",
    "\n",
    "save_gas[[\"make\", \"fuel-type\", \"body-style\", \"citykm\", \"highway_km\", \"price\",\"drive-wheels\"]]"
   ]
  },
  {
   "cell_type": "markdown",
   "id": "93d97a0a",
   "metadata": {},
   "source": [
    "**Insight:** These brands are best for city fuel economy – ideal for urban commuters."
   ]
  },
  {
   "cell_type": "code",
   "execution_count": 272,
   "id": "4e584fbc",
   "metadata": {},
   "outputs": [
    {
     "name": "stderr",
     "output_type": "stream",
     "text": [
      "/var/folders/yb/g6h5659x6z78yqc35_kfmpfm0000gn/T/ipykernel_19825/3082805423.py:8: FutureWarning: \n",
      "\n",
      "Passing `palette` without assigning `hue` is deprecated and will be removed in v0.14.0. Assign the `x` variable to `hue` and set `legend=False` for the same effect.\n",
      "\n",
      "  sns.barplot(data=top5_fuel_by_engine, x='engine-type', y='citykm' ,palette=colors)\n",
      "/var/folders/yb/g6h5659x6z78yqc35_kfmpfm0000gn/T/ipykernel_19825/3082805423.py:8: UserWarning: The palette list has more values (13) than needed (5), which may not be intended.\n",
      "  sns.barplot(data=top5_fuel_by_engine, x='engine-type', y='citykm' ,palette=colors)\n"
     ]
    },
    {
     "data": {
      "image/png": "[encoded data removed]",
      "text/plain": [
       "<Figure size 640x480 with 1 Axes>"
      ]
     },
     "metadata": {},
     "output_type": "display_data"
    }
   ],
   "source": [
    "# Group by engine-type and calculate average city-mpg\n",
    "fuel_by_engine = df.groupby('engine-type')['citykm'].mean().reset_index()\n",
    "\n",
    "# Sort by city-mpg descending and take top 5\n",
    "top5_fuel_by_engine = fuel_by_engine.sort_values(\"citykm\", ascending=True).head(5)\n",
    "\n",
    "\n",
    "sns.barplot(data=top5_fuel_by_engine, x='engine-type', y='citykm' ,palette=colors)\n",
    "plt.title('Top 5 Engine in Fuel consumption')\n",
    "plt.xlabel('Engine Type')\n",
    "plt.ylabel('L per km')\n",
    "plt.show()"
   ]
  },
  {
   "cell_type": "markdown",
   "id": "957941ab",
   "metadata": {},
   "source": [
    "**Insight:** Certain engine types like OHC or OHCF provide better city fuel economy."
   ]
  },
  {
   "cell_type": "code",
   "execution_count": 273,
   "id": "7b20c3e1",
   "metadata": {},
   "outputs": [
    {
     "name": "stderr",
     "output_type": "stream",
     "text": [
      "/var/folders/yb/g6h5659x6z78yqc35_kfmpfm0000gn/T/ipykernel_19825/2857544153.py:9: FutureWarning: \n",
      "\n",
      "Passing `palette` without assigning `hue` is deprecated and will be removed in v0.14.0. Assign the `x` variable to `hue` and set `legend=False` for the same effect.\n",
      "\n",
      "  sns.barplot(x=\"fuel-system\", y=\"citykm\", data=top5_fuel_systems, palette=colors)\n",
      "/var/folders/yb/g6h5659x6z78yqc35_kfmpfm0000gn/T/ipykernel_19825/2857544153.py:9: UserWarning: The palette list has more values (13) than needed (5), which may not be intended.\n",
      "  sns.barplot(x=\"fuel-system\", y=\"citykm\", data=top5_fuel_systems, palette=colors)\n"
     ]
    },
    {
     "data": {
      "image/png": "[encoded data removed]",
      "text/plain": [
       "<Figure size 1000x600 with 1 Axes>"
      ]
     },
     "metadata": {},
     "output_type": "display_data"
    }
   ],
   "source": [
    "# Group by fuel-system and calculate average city-mpg\n",
    "fuel_efficiency = df.groupby(\"fuel-system\")[\"citykm\"].mean().reset_index()\n",
    "\n",
    "# Sort descending to get the best (most efficient)\n",
    "top5_fuel_systems = fuel_efficiency.sort_values(\"citykm\", ascending=True).head(5)\n",
    "\n",
    "\n",
    "plt.figure(figsize=(10, 6))\n",
    "sns.barplot(x=\"fuel-system\", y=\"citykm\", data=top5_fuel_systems, palette=colors)\n",
    "plt.title(\"Top 5 Fuel Systems by Average City MPG\")\n",
    "plt.xlabel(\"Fuel System\")\n",
    "plt.ylabel(\"L per km\")\n",
    "plt.tight_layout()\n",
    "plt.show()"
   ]
  },
  {
   "cell_type": "markdown",
   "id": "e84b6bf5",
   "metadata": {},
   "source": [
    "**Insight:** Fuel systems play a major role in fuel consumption. 1bbl systems tend to perform better."
   ]
  },
  {
   "cell_type": "code",
   "execution_count": 268,
   "id": "765c7d4f",
   "metadata": {},
   "outputs": [],
   "source": [
    "df.to_csv('Updated_cars.csv')"
   ]
  }
 ],
 "metadata": {
  "kernelspec": {
   "display_name": ".venv",
   "language": "python",
   "name": "python3"
  },
  "language_info": {
   "codemirror_mode": {
    "name": "ipython",
    "version": 3
   },
   "file_extension": ".py",
   "mimetype": "text/x-python",
   "name": "python",
   "nbconvert_exporter": "python",
   "pygments_lexer": "ipython3",
   "version": "3.12.0"
  }
 },
 "nbformat": 4,
 "nbformat_minor": 5
}
